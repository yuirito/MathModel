{
 "cells": [
  {
   "cell_type": "code",
   "execution_count": 20,
   "id": "3a1d187e",
   "metadata": {},
   "outputs": [],
   "source": [
    "import torch\n",
    "import numpy as np\n",
    "import pandas as pd"
   ]
  },
  {
   "cell_type": "code",
   "execution_count": 21,
   "id": "61495d45",
   "metadata": {},
   "outputs": [],
   "source": [
    "d = pd.read_excel('./data/AcDataA2_pre.xlsx')"
   ]
  },
  {
   "cell_type": "code",
   "execution_count": 23,
   "id": "a9f86e84",
   "metadata": {},
   "outputs": [
    {
     "data": {
      "text/html": [
       "<div>\n",
       "<style scoped>\n",
       "    .dataframe tbody tr th:only-of-type {\n",
       "        vertical-align: middle;\n",
       "    }\n",
       "\n",
       "    .dataframe tbody tr th {\n",
       "        vertical-align: top;\n",
       "    }\n",
       "\n",
       "    .dataframe thead th {\n",
       "        text-align: right;\n",
       "    }\n",
       "</style>\n",
       "<table border=\"1\" class=\"dataframe\">\n",
       "  <thead>\n",
       "    <tr style=\"text-align: right;\">\n",
       "      <th></th>\n",
       "      <th>time</th>\n",
       "      <th>SO2</th>\n",
       "      <th>NO2</th>\n",
       "      <th>PM10</th>\n",
       "      <th>PM2.5</th>\n",
       "      <th>O3</th>\n",
       "      <th>CO</th>\n",
       "      <th>T</th>\n",
       "      <th>H</th>\n",
       "      <th>P</th>\n",
       "      <th>WS</th>\n",
       "      <th>WD</th>\n",
       "    </tr>\n",
       "  </thead>\n",
       "  <tbody>\n",
       "    <tr>\n",
       "      <th>6432</th>\n",
       "      <td>2020-07-23 08:00:00</td>\n",
       "      <td>12.0</td>\n",
       "      <td>17.0</td>\n",
       "      <td>18.0</td>\n",
       "      <td>6.0</td>\n",
       "      <td>29.0</td>\n",
       "      <td>0.4</td>\n",
       "      <td>30.3</td>\n",
       "      <td>63.0</td>\n",
       "      <td>1007.7</td>\n",
       "      <td>1.5</td>\n",
       "      <td>175.1</td>\n",
       "    </tr>\n",
       "    <tr>\n",
       "      <th>6433</th>\n",
       "      <td>2020-07-23 09:00:00</td>\n",
       "      <td>12.0</td>\n",
       "      <td>16.0</td>\n",
       "      <td>17.0</td>\n",
       "      <td>5.0</td>\n",
       "      <td>41.0</td>\n",
       "      <td>0.4</td>\n",
       "      <td>31.3</td>\n",
       "      <td>57.0</td>\n",
       "      <td>1007.8</td>\n",
       "      <td>1.5</td>\n",
       "      <td>182.6</td>\n",
       "    </tr>\n",
       "    <tr>\n",
       "      <th>6434</th>\n",
       "      <td>2020-07-23 10:00:00</td>\n",
       "      <td>11.0</td>\n",
       "      <td>16.0</td>\n",
       "      <td>21.0</td>\n",
       "      <td>6.0</td>\n",
       "      <td>69.0</td>\n",
       "      <td>0.4</td>\n",
       "      <td>32.8</td>\n",
       "      <td>51.0</td>\n",
       "      <td>1007.7</td>\n",
       "      <td>1.5</td>\n",
       "      <td>186.2</td>\n",
       "    </tr>\n",
       "    <tr>\n",
       "      <th>6435</th>\n",
       "      <td>2020-07-23 11:00:00</td>\n",
       "      <td>9.0</td>\n",
       "      <td>10.0</td>\n",
       "      <td>24.0</td>\n",
       "      <td>14.0</td>\n",
       "      <td>99.0</td>\n",
       "      <td>0.3</td>\n",
       "      <td>33.4</td>\n",
       "      <td>45.0</td>\n",
       "      <td>1007.4</td>\n",
       "      <td>1.9</td>\n",
       "      <td>191.6</td>\n",
       "    </tr>\n",
       "  </tbody>\n",
       "</table>\n",
       "</div>"
      ],
      "text/plain": [
       "                    time   SO2   NO2  PM10  PM2.5    O3   CO     T     H  \\\n",
       "6432 2020-07-23 08:00:00  12.0  17.0  18.0    6.0  29.0  0.4  30.3  63.0   \n",
       "6433 2020-07-23 09:00:00  12.0  16.0  17.0    5.0  41.0  0.4  31.3  57.0   \n",
       "6434 2020-07-23 10:00:00  11.0  16.0  21.0    6.0  69.0  0.4  32.8  51.0   \n",
       "6435 2020-07-23 11:00:00   9.0  10.0  24.0   14.0  99.0  0.3  33.4  45.0   \n",
       "\n",
       "           P   WS     WD  \n",
       "6432  1007.7  1.5  175.1  \n",
       "6433  1007.8  1.5  182.6  \n",
       "6434  1007.7  1.5  186.2  \n",
       "6435  1007.4  1.9  191.6  "
      ]
     },
     "execution_count": 23,
     "metadata": {},
     "output_type": "execute_result"
    }
   ],
   "source": [
    "d.loc[6432:6435]"
   ]
  },
  {
   "cell_type": "code",
   "execution_count": 19,
   "id": "16cda555",
   "metadata": {},
   "outputs": [],
   "source": [
    "d=d.loc[4344:]\n",
    "d.to_excel('./data/AcDataA0_pre.xlsx')"
   ]
  },
  {
   "cell_type": "code",
   "execution_count": 12,
   "id": "2d451e05",
   "metadata": {},
   "outputs": [
    {
     "data": {
      "text/plain": [
       "array([[11, 55,  1],\n",
       "       [22,  6,  2],\n",
       "       [33,  7,  3],\n",
       "       [44,  8,  4]])"
      ]
     },
     "execution_count": 12,
     "metadata": {},
     "output_type": "execute_result"
    }
   ],
   "source": [
    "x.transpose(1,0)"
   ]
  },
  {
   "cell_type": "code",
   "execution_count": null,
   "id": "c442e315",
   "metadata": {},
   "outputs": [],
   "source": []
  }
 ],
 "metadata": {
  "kernelspec": {
   "display_name": "Python 3 (ipykernel)",
   "language": "python",
   "name": "python3"
  },
  "language_info": {
   "codemirror_mode": {
    "name": "ipython",
    "version": 3
   },
   "file_extension": ".py",
   "mimetype": "text/x-python",
   "name": "python",
   "nbconvert_exporter": "python",
   "pygments_lexer": "ipython3",
   "version": "3.8.5"
  }
 },
 "nbformat": 4,
 "nbformat_minor": 5
}
