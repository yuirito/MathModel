{
 "cells": [
  {
   "cell_type": "code",
   "execution_count": 6,
   "id": "68467859",
   "metadata": {},
   "outputs": [],
   "source": [
    "data=[[8,12,27,11,112,0.5],[7,16,24,10,92,0.5],\n",
    "      [7,31,37,23,169,0.6],[8,30,47,33,201,0.7]]\n"
   ]
  },
  {
   "cell_type": "code",
   "execution_count": null,
   "id": "a617f391",
   "metadata": {},
   "outputs": [],
   "source": []
  },
  {
   "cell_type": "code",
   "execution_count": 7,
   "id": "d0a110fd",
   "metadata": {},
   "outputs": [],
   "source": [
    "def max_index(lst_int):\n",
    "    index = []\n",
    "    max_n = max(lst_int)\n",
    "    for i in range(len(lst_int)):\n",
    "        if lst_int[i] == max_n:\n",
    "            index.append(i)\n",
    "    return index \n",
    "IAQI_max=[]\n",
    "poll_max=[]"
   ]
  },
  {
   "cell_type": "code",
   "execution_count": null,
   "id": "cb0eb09a",
   "metadata": {},
   "outputs": [],
   "source": [
    "def AQI():\n",
    "    IAQI=[\n",
    "    [0,50,100,150,200,300,400,500],\n",
    "    [0,50,150,475,800,1600,2100,2620],\n",
    "    [0,40,80,180,280,565,750,940],\n",
    "    [0,50,150,250,350,420,500,600],\n",
    "    [0,35,75,115,150,250,350,500],\n",
    "    [0,100,160,215,265,800],\n",
    "    [0,2,4,14,24,36,48,60]]\n"
   ]
  },
  {
   "cell_type": "code",
   "execution_count": 8,
   "id": "3618489e",
   "metadata": {},
   "outputs": [
    {
     "name": "stdout",
     "output_type": "stream",
     "text": [
      "[8, 15, 27, 16, 60, 13]\n",
      "[7, 20, 24, 15, 46, 13]\n",
      "[7, 39, 37, 33, 109, 15]\n",
      "[8, 38, 47, 48, 138, 18]\n"
     ]
    }
   ],
   "source": [
    "import math\n",
    "for data_day in data:\n",
    "    IAQI_temp=[]\n",
    "    for i in range(len(data_day)):\n",
    "        Cp=data_day[i]\n",
    "        IAQI_poll=IAQI[i+1]\n",
    "        BP_Hi,BP_Lo=0,0\n",
    "        IAQI_Hi,IAQI_Lo=0,0\n",
    "        for j in range(len(IAQI_poll)):\n",
    "            if  Cp<IAQI_poll[j]:\n",
    "                BP_Hi=IAQI_poll[j]\n",
    "                IAQI_Hi=IAQI[0][j]\n",
    "                if j==0:\n",
    "                    BP_Lo=0\n",
    "                    IAQI_Lo=0\n",
    "                else:\n",
    "                    BP_Lo=IAQI_poll[j-1]\n",
    "                    IAQI_Lo=IAQI[0][j-1]\n",
    "                break\n",
    "        if BP_Hi==BP_Lo:\n",
    "            IAQI_t=0\n",
    "        else:\n",
    "            IAQI_t=math.ceil(((IAQI_Hi-IAQI_Lo)/(BP_Hi-BP_Lo))*(Cp-BP_Lo)+IAQI_Lo)\n",
    "        IAQI_temp.append(IAQI_t)\n",
    "    print(IAQI_temp)\n",
    "    IAQI_max.append(max(IAQI_temp))\n",
    "    poll_max.append(max_index(IAQI_temp))\n",
    "                \n",
    "        "
   ]
  },
  {
   "cell_type": "code",
   "execution_count": 9,
   "id": "91409288",
   "metadata": {},
   "outputs": [
    {
     "data": {
      "text/plain": [
       "[60, 46, 109, 138]"
      ]
     },
     "execution_count": 9,
     "metadata": {},
     "output_type": "execute_result"
    }
   ],
   "source": [
    "IAQI_max"
   ]
  },
  {
   "cell_type": "code",
   "execution_count": 10,
   "id": "e37dd027",
   "metadata": {},
   "outputs": [
    {
     "data": {
      "text/plain": [
       "[[4], [4], [4], [4]]"
      ]
     },
     "execution_count": 10,
     "metadata": {},
     "output_type": "execute_result"
    }
   ],
   "source": [
    "poll_max"
   ]
  },
  {
   "cell_type": "code",
   "execution_count": null,
   "id": "5080447a",
   "metadata": {},
   "outputs": [],
   "source": []
  }
 ],
 "metadata": {
  "kernelspec": {
   "display_name": "Python 3 (ipykernel)",
   "language": "python",
   "name": "python3"
  },
  "language_info": {
   "codemirror_mode": {
    "name": "ipython",
    "version": 3
   },
   "file_extension": ".py",
   "mimetype": "text/x-python",
   "name": "python",
   "nbconvert_exporter": "python",
   "pygments_lexer": "ipython3",
   "version": "3.8.5"
  },
  "toc": {
   "base_numbering": 1,
   "nav_menu": {},
   "number_sections": true,
   "sideBar": true,
   "skip_h1_title": false,
   "title_cell": "Table of Contents",
   "title_sidebar": "Contents",
   "toc_cell": false,
   "toc_position": {},
   "toc_section_display": true,
   "toc_window_display": false
  }
 },
 "nbformat": 4,
 "nbformat_minor": 5
}
